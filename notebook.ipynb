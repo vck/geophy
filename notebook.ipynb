{
 "cells": [
  {
   "cell_type": "markdown",
   "metadata": {},
   "source": [
    "PR Geofisika "
   ]
  },
  {
   "cell_type": "markdown",
   "metadata": {},
   "source": [
    "# 1. plot fungsi g(x) \n",
    "\n",
    "persamaan untuk menentukan besar gaya gravitasi pada benda dari jarak x dari pengamat \n",
    "dengan menganggap bentuk benda adalah spherical sempurna.\n",
    "\n",
    "$$G(x)=\\frac{4}{3}{\\pi}{\\rho}{d^{3}}{(x^{2} + z_{0}^{2})^{-1}} $$"
   ]
  },
  {
   "cell_type": "code",
   "execution_count": null,
   "metadata": {
    "collapsed": false
   },
   "outputs": [],
   "source": [
    "import matplotlib.pyplot as plt\n",
    "\n",
    "def grav(x):\n",
    "    '''\n",
    "    \n",
    "    constants:\n",
    "    =========\n",
    "    phi: 3.14\n",
    "    rho: 1000 \n",
    "    d: 2\n",
    "    Z0: 10\n",
    "    '''\n",
    "    return (4/3)*3.14*1000*(2**3)*(((x**2)+(10)**2)**-1)\n",
    "\n",
    "# array of integers from range -40 to 40\n",
    "x = range(-40, 41)\n",
    "\n",
    "# create array g and calculate each numbers in x using \n",
    "# function grav with list comprehension\n",
    "g = [grav(x_) for x_ in x]\n",
    "\n",
    "# plot g with respect to x\n",
    "plt.plot(x, g)\n",
    "\n",
    "# title for x plane\n",
    "plt.xlabel('jarak (x)')\n",
    "\n",
    "# title for y plane\n",
    "plt.ylabel('nilai gravitasi')\n",
    "\n",
    "# title for the plot\n",
    "plt.title('grafik fungsi gravitasi g terhadap jarak x')\n",
    "\n",
    "# show result\n",
    "plt.show()\n"
   ]
  },
  {
   "cell_type": "markdown",
   "metadata": {},
   "source": [
    "![alt text](./plotgeo.png)"
   ]
  },
  {
   "cell_type": "markdown",
   "metadata": {},
   "source": []
  }
 ],
 "metadata": {
  "kernelspec": {
   "display_name": "Python 3",
   "language": "python",
   "name": "python3"
  },
  "language_info": {
   "codemirror_mode": {
    "name": "ipython",
    "version": 3
   },
   "file_extension": ".py",
   "mimetype": "text/x-python",
   "name": "python",
   "nbconvert_exporter": "python",
   "pygments_lexer": "ipython3",
   "version": "3.6.0"
  }
 },
 "nbformat": 4,
 "nbformat_minor": 2
}
